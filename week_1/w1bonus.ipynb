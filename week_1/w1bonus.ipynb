{
 "cells": [
  {
   "cell_type": "markdown",
   "metadata": {},
   "source": [
    "# Bonus: Quadratic Equation\n",
    "A [quadratic equation](https://en.wikipedia.org/wiki/Quadratic_equation) is an equation that can be written as\n",
    "\n",
    "$ax^2 + bx + c = 0$.\n",
    "\n",
    "In this equation *x* represents an unknown number, and *a*, *b*, and *c* are representing known numbers.\n",
    "Possible solutions for a given quadratic equation can be calculated by the formula\n",
    "\n",
    "$x=\\frac{-b \\pm \\sqrt{b^2-4ac}}{2a}$.\n",
    "\n",
    "The expression $b^2-4ac$ is called the\n",
    "[discriminant](https://en.wikipedia.org/wiki/Quadratic_equation#Discriminant).\n",
    "Using the discriminant makes it is easy to check the number of solutions for a given quadratic equation:\n",
    "\n",
    "- If the discriminant is 0, the quadratic equation has exactly one real solution.\n",
    "- If the discriminant is > 0, the quadratic equation has two real solutions.\n",
    "- If the discriminant is < 0, the quadratic equation has two complex solutions.\n",
    "\n",
    "Write a program that asks the user for the numbers *a*, *b* and *c*.\n",
    "The program should then print out how many solutions the quadratic equation has.\n",
    "\n",
    "Below is an example execution of the program:\n",
    "\n",
    "    Please enter the value of a: 4\n",
    "    Please enter the value of b: 2\n",
    "    Please enter the value of c: -2\n",
    "\n",
    "    The quadratic equation has 2 real solutions.\n",
    "\n",
    "\n",
    "Here is an another example execution of the program:\n",
    "\n",
    "    Please enter the value of a: 1\n",
    "    Please enter the value of b: 2\n",
    "    Please enter the value of c: 3\n",
    "\n",
    "    The quadratic equation has 2 complex solutions.\n",
    "\n",
    "\n",
    "And here is yet another example execution of the program:\n",
    "\n",
    "    Please enter the value of a: 1\n",
    "    Please enter the value of b: 2\n",
    "    Please enter the value of c: 1\n",
    "\n",
    "    The quadratic equation has 1 real solution."
   ]
  },
  {
   "cell_type": "code",
   "execution_count": 2,
   "id": "5760d364",
   "metadata": {},
   "outputs": [
    {
     "name": "stdout",
     "output_type": "stream",
     "text": [
      "2\n",
      "<class 'int'>\n",
      "The quadratic equation has 2 complex solutions.\n"
     ]
    }
   ],
   "source": [
    "# Step 1)\n",
    "# complete this function to take in the three numbers and return a result\n",
    "def find_solutions(a, b, c) -> str: # removed the types here as it did not enforce type of parameter for function inputs\n",
    "  result = None\n",
    "  # print out the third input so we can see the value, type of the resulting input\n",
    "  print(c) # print third value input\n",
    "  print(type(c)) # print type of third value\n",
    "  #add your code here\n",
    "  discriminant = b**2 - 4*a*c\n",
    "  if discriminant > 0:\n",
    "      result = \"The quadratic equation has 2 real solutions.\"\n",
    "  elif discriminant == 0:\n",
    "      result = \"The quadratic equation has 1 real solution.\"\n",
    "  else:\n",
    "      result = \"The quadratic equation has 2 complex solutions.\"\n",
    "\n",
    "  return result\n",
    "\n",
    "\n",
    "# Step 2)\n",
    "# add your code below to get the three numbers from the user and print out the result\n",
    "# Get input from the user\n",
    "try:\n",
    "    a = int(input(\"Enter the first number: \"))\n",
    "    b = int(input(\"Enter the second number: \"))\n",
    "    c = int(input(\"Enter the third number: \"))\n",
    "except Exception as error:\n",
    "    print(error) # print the error so we can see it\n",
    "\n",
    "\n",
    "# Call the function and print the result\n",
    "solutions = find_solutions(a, b, c)\n",
    "print(solutions)"
   ]
  },
  {
   "cell_type": "code",
   "execution_count": 3,
   "id": "ab784809",
   "metadata": {},
   "outputs": [
    {
     "name": "stderr",
     "output_type": "stream",
     "text": [
      "test_one_real_soltuion (__main__.TestExercise.test_one_real_soltuion) ... ok\n",
      "test_two_complex_solutions (__main__.TestExercise.test_two_complex_solutions) ... ok\n",
      "test_two_real_solutions (__main__.TestExercise.test_two_real_solutions) ... ok\n",
      "\n",
      "----------------------------------------------------------------------\n",
      "Ran 3 tests in 0.002s\n",
      "\n",
      "OK\n"
     ]
    },
    {
     "name": "stdout",
     "output_type": "stream",
     "text": [
      "1\n",
      "<class 'int'>\n",
      "3\n",
      "<class 'int'>\n",
      "-2\n",
      "<class 'int'>\n"
     ]
    }
   ],
   "source": [
    "import unittest\n",
    "\n",
    "class TestExercise(unittest.TestCase):\n",
    "\n",
    "  def test_one_real_soltuion(self):\n",
    "    assert find_solutions(1,2,1) == \"The quadratic equation has 1 real solution.\"\n",
    "\n",
    "  def test_two_real_solutions(self):\n",
    "    assert find_solutions(4,2,-2) == \"The quadratic equation has 2 real solutions.\"\n",
    "\n",
    "  def test_two_complex_solutions(self):\n",
    "    assert find_solutions(1,2,3) == \"The quadratic equation has 2 complex solutions.\"\n",
    "\n",
    "\n",
    "if __name__ == '__main__':\n",
    "    unittest.main(argv=['first-arg-is-ignored'], exit=False, verbosity=2)"
   ]
  }
 ],
 "metadata": {
  "kernelspec": {
   "display_name": "Python 3",
   "language": "python",
   "name": "python3"
  },
  "language_info": {
   "codemirror_mode": {
    "name": "ipython",
    "version": 3
   },
   "file_extension": ".py",
   "mimetype": "text/x-python",
   "name": "python",
   "nbconvert_exporter": "python",
   "pygments_lexer": "ipython3",
   "version": "3.13.0"
  }
 },
 "nbformat": 4,
 "nbformat_minor": 5
}
