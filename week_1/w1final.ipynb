{
 "cells": [
  {
   "cell_type": "markdown",
   "metadata": {},
   "source": [
    "# Assignment: Triangles\n",
    "[Triangles](https://en.wikipedia.org/wiki/Triangle#Types_of_triangle) can be classified based on their angels.\n",
    "\n",
    "- A right triangle has one angle of 90°\n",
    "- A obtuse triangle has one angle of more than 90°\n",
    "- A triangle is acute if all three angels are less than 90°\n",
    "\n",
    "Write a program that asks the user for the values of three angles in degrees. First check if the entered values are\n",
    "valid. The values are only valid if they are >0 and if their sum is 180°.\n",
    "If the entered values are valid, classify the triangle as right, acute or obtuse.\n",
    "\n",
    "Below are two example executions of the program with invalid values:\n",
    "\n",
    "    Please enter the first angle: 60\n",
    "    Please enter the second angle: 60\n",
    "    Please enter the third angle: 100\n",
    "    The entered values are not valid.\n",
    "\n",
    "    Please enter the first angle: 200\n",
    "    Please enter the second angle: -10\n",
    "    Please enter the third angle: -10\n",
    "    Angles smaller than 0 are not valid.\n",
    "\n",
    "\n",
    "Here is another example execution of the program:\n",
    "\n",
    "    Please enter the first angle: 60\n",
    "    Please enter the second angle: 30\n",
    "    Please enter the third angle: 90\n",
    "    The triangle is a right triangle.\n"
   ]
  },
  {
   "cell_type": "code",
   "execution_count": 40,
   "metadata": {},
   "outputs": [],
   "source": [
    "def classify(first : int, second : int, third : int) -> str:\n",
    "  classification = \"unknown\"\n",
    "\n",
    "  if (first < 0 or second < 0 or third < 0):\n",
    "    classification = \"Angles smaller than 0 are not valid.\"\n",
    "  elif (first + second + third != 180):\n",
    "    classification = \"The entered values are not valid.\"\n",
    "  elif (first == 90 or second == 90 or third == 90):\n",
    "    classification = \"The triangle is a right triangle.\"\n",
    "  elif (first > 90 or second > 90 or third > 90):\n",
    "    classification = \"The triangle is an obtuse triangle.\"\n",
    "  else:\n",
    "    classification = \"The triangle is an acute triangle.\"\n",
    "\n",
    "  return classification\n",
    "\n",
    "\n",
    "  \n"
   ]
  },
  {
   "cell_type": "code",
   "execution_count": 39,
   "id": "9008c0cb",
   "metadata": {},
   "outputs": [
    {
     "name": "stderr",
     "output_type": "stream",
     "text": [
      "...\n",
      "----------------------------------------------------------------------\n",
      "Ran 3 tests in 0.001s\n",
      "\n",
      "OK\n"
     ]
    }
   ],
   "source": [
    "import unittest\n",
    "\n",
    "class TestExercise(unittest.TestCase):\n",
    "\n",
    "  def test_invalid_values(self):\n",
    "    assert classify(60,60,90) == \"The entered values are not valid.\"\n",
    "\n",
    "  def test_less_than_zero(self):\n",
    "    assert classify(200,-10,-10) == \"Angles smaller than 0 are not valid.\"\n",
    "\n",
    "  def test_right_triangle(self):\n",
    "    assert classify(60,30,90) == \"The triangle is a right triangle.\"\n",
    "\n"
   ]
  },
  {
   "cell_type": "code",
   "execution_count": 43,
   "id": "669688ba",
   "metadata": {},
   "outputs": [
    {
     "name": "stderr",
     "output_type": "stream",
     "text": [
      "...\n",
      "----------------------------------------------------------------------\n",
      "Ran 3 tests in 0.001s\n",
      "\n",
      "OK\n"
     ]
    },
    {
     "name": "stdout",
     "output_type": "stream",
     "text": [
      "The triangle is a right triangle.\n"
     ]
    }
   ],
   "source": [
    "def main():\n",
    "    angle_1 = int(input('Please enter the first angle: '))\n",
    "    angle_2 = int(input('Please enter the second angle: '))\n",
    "    angle_3 = int(input('Please enter the third angle: '))\n",
    "\n",
    "    print(classify(angle_1, angle_2, angle_3))\n",
    "\n",
    "if __name__ == '__main__':\n",
    "    unittest.main(argv=['first-arg-is-ignored'], exit=False)\n",
    "    main()\n",
    "\n"
   ]
  },
  {
   "cell_type": "markdown",
   "id": "4b305cb1",
   "metadata": {},
   "source": []
  }
 ],
 "metadata": {
  "kernelspec": {
   "display_name": "Python 3",
   "language": "python",
   "name": "python3"
  },
  "language_info": {
   "codemirror_mode": {
    "name": "ipython",
    "version": 3
   },
   "file_extension": ".py",
   "mimetype": "text/x-python",
   "name": "python",
   "nbconvert_exporter": "python",
   "pygments_lexer": "ipython3",
   "version": "3.13.0"
  }
 },
 "nbformat": 4,
 "nbformat_minor": 5
}
