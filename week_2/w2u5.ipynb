{
 "cells": [
  {
   "cell_type": "markdown",
   "metadata": {},
   "source": [
    "# Using [ranges](https://docs.python.org/3/tutorial/controlflow.html#the-range-function) to create sequences of numbers\n",
    "Python has an own data type to represent a sequence of numbers. This data type is called\n",
    "[*Range*](https://docs.python.org/3/library/stdtypes.html#ranges). Ranges are created by calling the `range` function.\n",
    "\n",
    "In its simplest form the `range` function is invoked by with just one parameter. In this case a Range starting from 0 is\n",
    "created. The following example shows how to create a range containing the numbers from 0 to 4:\n",
    "\n",
    "```python\n",
    "  range(5) # -> 0 1 2 3 4\n",
    "```\n",
    "\n",
    "As you can see, the paramter, i.e. the end point of the sequence, is **not** part of the sequence. \n",
    "\n",
    "Alternatively, an initial value other than 0 can be used to defined a range. To do this, the `range` function is called\n",
    "with two parameters. The following function call creates a range in the interval from 10 to 15.\n",
    "\n",
    "```python\n",
    "  range(10,16) # -> 10 11 12 13 14 15\n",
    "```\n",
    "\n",
    "As you can see, the start point **is** part of the sequence, the end point is not. Question: What sequence is produced with range: `range(3,3)`? Give it a try ...\n",
    "\n",
    "By using the step size the distance between the numbers in the interval can be defined. The step size can be negative as\n",
    "well as positive.\n",
    "\n",
    "```python\n",
    "  range(2,12,3) # -> 2 5 8 11\n",
    "  range(20,5,-5) # -> 20 15 10\n",
    "```\n",
    "\n",
    "# Ranges and the `for` loop\n",
    "Ranges can be used in combination with the `for` loop to control the number of loop passes. This is explained in more\n",
    "detail in the following examples. For instance, to print the numbers from 0 to 9, the following Python code can be used:"
   ]
  },
  {
   "cell_type": "code",
   "execution_count": 1,
   "metadata": {},
   "outputs": [
    {
     "name": "stdout",
     "output_type": "stream",
     "text": [
      "0\n",
      "1\n",
      "2\n",
      "3\n",
      "4\n",
      "5\n",
      "6\n",
      "7\n",
      "8\n",
      "9\n"
     ]
    }
   ],
   "source": [
    "for number in range(10):\n",
    "    print(number)"
   ]
  },
  {
   "cell_type": "markdown",
   "metadata": {},
   "source": [
    "The numbers from 10 to 19 can be output as follows:"
   ]
  },
  {
   "cell_type": "code",
   "execution_count": 2,
   "metadata": {},
   "outputs": [
    {
     "name": "stdout",
     "output_type": "stream",
     "text": [
      "10\n",
      "11\n",
      "12\n",
      "13\n",
      "14\n",
      "15\n",
      "16\n",
      "17\n",
      "18\n",
      "19\n"
     ]
    }
   ],
   "source": [
    "for number in range(10, 20):\n",
    "    print(number)"
   ]
  },
  {
   "cell_type": "markdown",
   "metadata": {},
   "source": [
    "Last but not least, the step size of the interval represented by the range can be adjusted. For example, the following\n",
    "Python code outputs all numbers from 10 to 0 in steps of 2."
   ]
  },
  {
   "cell_type": "code",
   "execution_count": 3,
   "metadata": {},
   "outputs": [
    {
     "name": "stdout",
     "output_type": "stream",
     "text": [
      "10\n",
      "8\n",
      "6\n",
      "4\n",
      "2\n"
     ]
    }
   ],
   "source": [
    "for number in range(10, 0, -2):\n",
    "    print(number)"
   ]
  },
  {
   "cell_type": "markdown",
   "metadata": {},
   "source": [
    "# Exercise 1 - Combining `range` and `input`\n",
    "Now it's your turn again. Write a Python program that expects three integer numbers as input: from, to and increment.\n",
    "Then output the numbers in that range with the appropriate increment. Note: Remember to convert the inputs to the\n",
    "correct data type."
   ]
  },
  {
   "cell_type": "code",
   "execution_count": 12,
   "metadata": {},
   "outputs": [
    {
     "name": "stdout",
     "output_type": "stream",
     "text": [
      "Begin at: 2, End at: 10, Increment by: 2\n",
      "2\n",
      "4\n",
      "6\n",
      "8\n"
     ]
    }
   ],
   "source": [
    "start = int(input(f'Input starting number: '))\n",
    "stop = int(input(f'Input number to count to: '))\n",
    "increment = int(input(f'Input number to count by: '))\n",
    "print(f'Begin at: {start}, End at: {stop}, Increment by: {increment}')\n",
    "\n",
    "for number in range(start, stop, increment):\n",
    "    print(number)\n"
   ]
  },
  {
   "cell_type": "markdown",
   "metadata": {},
   "source": [
    "# Exercise 2 - FizzBuzz\n",
    "Write a program that outputs the numbers from 1 to 100. All numbers that are divisible by three should be replaced by\n",
    "*Fizz* and all numbers that are divisible by 5 should be replaced by *Buzz*. Numbers that are divisible by both 3 and 5\n",
    "will be replaced by \"FizzBuzz\".  \n",
    "**Note:** You can check the divisibility with the modulo operator ``%`. The output of the function should look like\n",
    "this:\n",
    "\n",
    "> 1 <br>\n",
    "> 2 <br>\n",
    "> Fizz <br>\n",
    "> 4 <br>\n",
    "> Buzz <br>\n",
    "> Fizz <br>\n",
    "> 7 <br>\n",
    "> ..."
   ]
  },
  {
   "cell_type": "code",
   "execution_count": 20,
   "metadata": {},
   "outputs": [],
   "source": [
    "def fizzbuzz(start, end, increment) -> str:\n",
    "    output = ''\n",
    "    for number in range(start, end, increment):\n",
    "        if number % 3 == 0 and number % 5 == 0:\n",
    "            output += 'FizzBuzz\\n'\n",
    "        elif number % 3 == 0:\n",
    "            output += 'Fizz\\n'\n",
    "        elif number % 5 == 0:\n",
    "            output += 'Buzz\\n'\n",
    "        else:\n",
    "            output += f'{number}\\n'\n",
    "\n",
    "    return output"
   ]
  },
  {
   "cell_type": "code",
   "execution_count": 22,
   "metadata": {},
   "outputs": [
    {
     "name": "stdout",
     "output_type": "stream",
     "text": [
      "1\n",
      "2\n",
      "Fizz\n",
      "4\n",
      "Buzz\n",
      "Fizz\n",
      "7\n",
      "8\n",
      "Fizz\n",
      "Buzz\n",
      "11\n",
      "Fizz\n",
      "13\n",
      "14\n",
      "FizzBuzz\n",
      "\n"
     ]
    }
   ],
   "source": [
    "def main():\n",
    "    start = int(input('Where to start? '))  # Convert input to int\n",
    "    end = int(input('Where to end? '))      # Convert input to int\n",
    "    increment = int(input('What should we count by? '))  # Convert input to\n",
    "\n",
    "    results = fizzbuzz(start, end, increment)\n",
    "\n",
    "    print(results)\n",
    "\n",
    "if __name__ == \"__main__\":\n",
    "    main()\n"
   ]
  },
  {
   "cell_type": "markdown",
   "metadata": {},
   "source": []
  }
 ],
 "metadata": {
  "file_extension": ".py",
  "kernelspec": {
   "display_name": "Python 3",
   "language": "python",
   "name": "python3"
  },
  "language_info": {
   "codemirror_mode": {
    "name": "ipython",
    "version": 3
   },
   "file_extension": ".py",
   "mimetype": "text/x-python",
   "name": "python",
   "nbconvert_exporter": "python",
   "pygments_lexer": "ipython3",
   "version": "3.13.0"
  },
  "mimetype": "text/x-python",
  "name": "python",
  "npconvert_exporter": "python",
  "pygments_lexer": "ipython3",
  "version": 3
 },
 "nbformat": 4,
 "nbformat_minor": 2
}
